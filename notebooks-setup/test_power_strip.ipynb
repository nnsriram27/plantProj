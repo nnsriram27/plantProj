{
 "cells": [
  {
   "cell_type": "code",
   "execution_count": 1,
   "metadata": {},
   "outputs": [],
   "source": [
    "import dlipower"
   ]
  },
  {
   "cell_type": "code",
   "execution_count": 2,
   "metadata": {},
   "outputs": [
    {
     "name": "stdout",
     "output_type": "stream",
     "text": [
      "DLIPowerSwitch at 192.168.0.100\n",
      "Outlet\tName           \tState\n",
      "1\tOutlet 1       \tOFF\n",
      "2\tOutlet 2       \tOFF\n",
      "3\tOutlet 3       \tOFF\n",
      "4\tOutlet 4       \tOFF\n",
      "5\tOutlet 5       \tOFF\n",
      "6\tOutlet 6       \tON\n",
      "7\tOutlet 7       \tOFF\n",
      "8\tOutlet 8       \tOFF\n",
      "\n"
     ]
    }
   ],
   "source": [
    "switch = dlipower.PowerSwitch(hostname=\"192.168.0.100\", userid=\"admin\", password=\"4321\")\n",
    "print(switch)"
   ]
  },
  {
   "cell_type": "code",
   "execution_count": 4,
   "metadata": {},
   "outputs": [
    {
     "data": {
      "text/plain": [
       "False"
      ]
     },
     "execution_count": 4,
     "metadata": {},
     "output_type": "execute_result"
    }
   ],
   "source": [
    "switch.on(6)"
   ]
  },
  {
   "cell_type": "code",
   "execution_count": 3,
   "metadata": {},
   "outputs": [
    {
     "name": "stdout",
     "output_type": "stream",
     "text": [
      "DLIPowerSwitch at 192.168.0.100\n",
      "Outlet\tName           \tState\n",
      "1\tOutlet 1       \tON\n",
      "2\tOutlet 2       \tOFF\n",
      "3\tOutlet 3       \tOFF\n",
      "4\tOutlet 4       \tOFF\n",
      "5\tOutlet 5       \tOFF\n",
      "6\tOutlet 6       \tOFF\n",
      "7\tOutlet 7       \tOFF\n",
      "8\tOutlet 8       \tOFF\n",
      "\n"
     ]
    }
   ],
   "source": [
    "for outlet in switch:\n",
    "    outlet.on()\n",
    "print(switch)"
   ]
  },
  {
   "cell_type": "code",
   "execution_count": 4,
   "metadata": {},
   "outputs": [
    {
     "name": "stdout",
     "output_type": "stream",
     "text": [
      "DLIPowerSwitch at 192.168.0.100\n",
      "Outlet\tName           \tState\n",
      "1\tOutlet 1       \tOFF\n",
      "2\tOutlet 2       \tOFF\n",
      "3\tOutlet 3       \tOFF\n",
      "4\tOutlet 4       \tOFF\n",
      "5\tOutlet 5       \tOFF\n",
      "6\tOutlet 6       \tOFF\n",
      "7\tOutlet 7       \tOFF\n",
      "8\tOutlet 8       \tOFF\n",
      "\n"
     ]
    }
   ],
   "source": [
    "for outlet in switch:\n",
    "    outlet.off()\n",
    "print(switch)"
   ]
  },
  {
   "cell_type": "code",
   "execution_count": null,
   "metadata": {},
   "outputs": [],
   "source": []
  }
 ],
 "metadata": {
  "kernelspec": {
   "display_name": "plantEnv",
   "language": "python",
   "name": "python3"
  },
  "language_info": {
   "codemirror_mode": {
    "name": "ipython",
    "version": 3
   },
   "file_extension": ".py",
   "mimetype": "text/x-python",
   "name": "python",
   "nbconvert_exporter": "python",
   "pygments_lexer": "ipython3",
   "version": "3.9.16"
  }
 },
 "nbformat": 4,
 "nbformat_minor": 2
}
