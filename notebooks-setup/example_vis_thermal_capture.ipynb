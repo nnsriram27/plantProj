{
 "cells": [
  {
   "cell_type": "markdown",
   "metadata": {},
   "source": [
    "# Example notebook to capture visible thermal camera data"
   ]
  },
  {
   "cell_type": "code",
   "execution_count": null,
   "metadata": {},
   "outputs": [],
   "source": [
    "import sys\n",
    "sys.path.append('../')\n",
    "\n",
    "import time\n",
    "\n",
    "import numpy as np\n",
    "import matplotlib.pyplot as plt\n",
    "%matplotlib widget\n",
    "\n",
    "from cameras.wrapper_boson import BosonWithTelemetry\n",
    "from cameras.ids_ueye import uEye"
   ]
  },
  {
   "cell_type": "code",
   "execution_count": null,
   "metadata": {},
   "outputs": [],
   "source": [
    "vis_cam_obj = uEye()\n",
    "vis_cam_obj.set_exposure(200)\n",
    "\n",
    "thr_cam_obj = BosonWithTelemetry()"
   ]
  },
  {
   "cell_type": "code",
   "execution_count": null,
   "metadata": {},
   "outputs": [],
   "source": [
    "vis_img, vis_tstamp = vis_cam_obj.getNextImage(), time.time()\n",
    "thr_img, thr_tstamp = thr_cam_obj.get_next_image()"
   ]
  }
 ],
 "metadata": {
  "kernelspec": {
   "display_name": "plantEnv",
   "language": "python",
   "name": "python3"
  },
  "language_info": {
   "codemirror_mode": {
    "name": "ipython",
    "version": 3
   },
   "file_extension": ".py",
   "mimetype": "text/x-python",
   "name": "python",
   "nbconvert_exporter": "python",
   "pygments_lexer": "ipython3",
   "version": "3.10.15"
  }
 },
 "nbformat": 4,
 "nbformat_minor": 2
}
