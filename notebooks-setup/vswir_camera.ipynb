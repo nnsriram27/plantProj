{
 "cells": [
  {
   "attachments": {},
   "cell_type": "markdown",
   "metadata": {},
   "source": [
    "# Working with Atlas SWIR Camera from LUCID Vision Labs"
   ]
  },
  {
   "cell_type": "code",
   "execution_count": null,
   "metadata": {},
   "outputs": [],
   "source": [
    "import sys\n",
    "sys.path.append('../')"
   ]
  },
  {
   "cell_type": "code",
   "execution_count": null,
   "metadata": {},
   "outputs": [],
   "source": [
    "import time\n",
    "import numpy as np\n",
    "%matplotlib inline\n",
    "import matplotlib.pyplot as plt\n",
    "import cv2\n",
    "\n",
    "from cameras.lucid_swir import LucidSWIR\n",
    "from thorlabs_elliptec import ELLx\n",
    "\n",
    "save_cnt = 0\n",
    "cam = LucidSWIR()"
   ]
  },
  {
   "cell_type": "code",
   "execution_count": null,
   "metadata": {},
   "outputs": [],
   "source": [
    "stage = ELLx(\"/dev/ttyUSB0\")\n",
    "stage_pos = 0\n",
    "stage.move_absolute_raw(stage_pos, True)"
   ]
  },
  {
   "cell_type": "code",
   "execution_count": null,
   "metadata": {},
   "outputs": [],
   "source": [
    "curr_exp = cam._get_node_value(\"ExposureTime\")\n",
    "cam.printTemperatureInfo()\n",
    "cam.set_fps(20)\n",
    "cam.set_gain(0)\n",
    "\n",
    "fig, ax = plt.subplots(1, 1)\n",
    "\n",
    "# viz_min_val = 16\n",
    "# viz_max_val = 40000\n",
    "while True:\n",
    "    tic = time.time()\n",
    "    img_np = cam.getNextImage()\n",
    "    min_val, max_val = np.percentile(img_np, (1, 99))\n",
    "    print(f'Image Stats: Min: {img_np.min():05d}, Max: {img_np.max():05d}, Mean: {img_np.mean():05.2f}, Std: {img_np.std():05.2f}, 1%: {min_val:05.2f}, 99%: {max_val:05.2f}\\r', end='')\n",
    "    img_np = (img_np - min_val) / (max_val - min_val) * 255\n",
    "    img_np = np.clip(img_np, 0, 255).astype(np.uint8)\n",
    "    # img_np = (img_np*1.0 - img_np.min()) / (img_np.max() - img_np.min()) * 255\n",
    "    # img_np = img_np / 255\n",
    "    # img_np = np.clip(img_np, 0, 255).astype(np.uint8)\n",
    "    cv2.imshow(\"Dispay\", img_np)\n",
    "\n",
    "    key = cv2.waitKey(10) & 0xFF\n",
    "    if key == 27:\n",
    "        break\n",
    "    # elif key == ord('s'):\n",
    "    #     cv2.imwrite(f\"saved_img_{save_cnt}.png\", img_np)\n",
    "    #     print(f\"\\nSaved Image\")\n",
    "    #     save_cnt += 1\n",
    "    elif key == ord('n'):\n",
    "        stage_pos += 31\n",
    "        if stage_pos > 93:\n",
    "            stage_pos = 93\n",
    "        stage.move_absolute_raw(stage_pos, True)\n",
    "    elif key == ord('p'):\n",
    "        stage_pos -= 31\n",
    "        if stage_pos < 0:\n",
    "            stage_pos = 0\n",
    "        stage.move_absolute_raw(stage_pos, True)\n",
    "    elif key == ord('w'):\n",
    "        curr_exp += 1000\n",
    "        cam.set_exposure(curr_exp)\n",
    "    elif key == ord('s'):\n",
    "        curr_exp -= 1000\n",
    "        cam.set_exposure(curr_exp)\n",
    "\n",
    "\n",
    "    # plt.imshow(img_np)\n",
    "\n",
    "    # display.clear_output(wait=True)\n",
    "    # display.display(plt.gcf())\n",
    "    # print(f'FPS: {1/(time.time() - tic)}')\n",
    "    # plt.waitforbuttonpress(10)\n",
    "\n",
    "cv2.destroyAllWindows()\n",
    "# cam.device.stop_stream()"
   ]
  },
  {
   "cell_type": "markdown",
   "metadata": {},
   "source": []
  },
  {
   "cell_type": "code",
   "execution_count": null,
   "metadata": {},
   "outputs": [],
   "source": []
  }
 ],
 "metadata": {
  "kernelspec": {
   "display_name": "vtlt",
   "language": "python",
   "name": "python3"
  },
  "language_info": {
   "codemirror_mode": {
    "name": "ipython",
    "version": 3
   },
   "file_extension": ".py",
   "mimetype": "text/x-python",
   "name": "python",
   "nbconvert_exporter": "python",
   "pygments_lexer": "ipython3",
   "version": "3.9.16"
  },
  "orig_nbformat": 4
 },
 "nbformat": 4,
 "nbformat_minor": 2
}
