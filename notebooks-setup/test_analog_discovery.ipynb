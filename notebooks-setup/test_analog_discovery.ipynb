{
 "cells": [
  {
   "cell_type": "code",
   "execution_count": 1,
   "metadata": {},
   "outputs": [],
   "source": [
    "import dwfpy as dwf\n",
    "import time\n"
   ]
  },
  {
   "cell_type": "code",
   "execution_count": 2,
   "metadata": {},
   "outputs": [
    {
     "name": "stdout",
     "output_type": "stream",
     "text": [
      "Found device: Analog Discovery Serial Number:(210244546118)\n"
     ]
    }
   ],
   "source": [
    "with dwf.Device() as device:\n",
    "    print(f'Found device: {device.name} Serial Number:({device.serial_number})')\n",
    "    serial_number = device.serial_number    "
   ]
  },
  {
   "cell_type": "code",
   "execution_count": 3,
   "metadata": {},
   "outputs": [
    {
     "name": "stdout",
     "output_type": "stream",
     "text": [
      "Found a device with matching serial number: Discovery (210244546118)\n"
     ]
    }
   ],
   "source": [
    "with dwf.Device(serial_number=serial_number) as device:\n",
    "    print(f'Found a device with matching serial number: {device.user_name} ({device.serial_number})')\n",
    "    device.analog_output['ch1'].setup(function='dc', frequency=1, amplitude=5.0, start=True, offset=5.0)\n",
    "    # device.analog_output['ch1'].setup(function='sine', frequency=1, amplitude=2.5, start=True, offset=2.5)\n",
    "    time.sleep(5)"
   ]
  },
  {
   "cell_type": "code",
   "execution_count": null,
   "metadata": {},
   "outputs": [],
   "source": []
  }
 ],
 "metadata": {
  "kernelspec": {
   "display_name": "plantEnv",
   "language": "python",
   "name": "python3"
  },
  "language_info": {
   "codemirror_mode": {
    "name": "ipython",
    "version": 3
   },
   "file_extension": ".py",
   "mimetype": "text/x-python",
   "name": "python",
   "nbconvert_exporter": "python",
   "pygments_lexer": "ipython3",
   "version": "3.9.16"
  }
 },
 "nbformat": 4,
 "nbformat_minor": 2
}
