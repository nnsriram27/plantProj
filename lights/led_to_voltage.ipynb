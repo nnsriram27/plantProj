{
 "cells": [
  {
   "cell_type": "code",
   "execution_count": 1,
   "metadata": {},
   "outputs": [],
   "source": [
    "import numpy as np\n",
    "from scipy.interpolate import CubicSpline\n",
    "\n",
    "voltage_gt = np.array([0, 0.6, 1, 1.5, 2, 2.5, 3, 3.5, 4, 4.5, 5, 5.5, 6, 6.5, 7, 7.5, 8, 8.5, 9, 9.5, 10])\n",
    "light_intensity_gt = np.array([0.00, 2.48, 4.18, 7.48, 11.57, 15.97, 20.12, 25.02, 28.49, 32.33, 37.35, 43.57, 50.13, 56.62, 63.03, 69.37, 75.62, 81.81, 87.96, 93.99, 100.00])\n",
    "\n",
    "# Cubic spline interpolation\n",
    "voltage_to_light_intensity = CubicSpline(voltage_gt, light_intensity_gt)\n",
    "light_intensity_to_voltage = CubicSpline(light_intensity_gt, voltage_gt)\n",
    "\n",
    "def light_intensity(voltage):\n",
    "    return voltage_to_light_intensity(voltage)\n",
    "    \n",
    "def voltage(light_intensity):\n",
    "    return light_intensity_to_voltage(light_intensity)"
   ]
  },
  {
   "cell_type": "code",
   "execution_count": 4,
   "metadata": {},
   "outputs": [
    {
     "name": "stdout",
     "output_type": "stream",
     "text": [
      "Voltage for light intensities:\n",
      "0%: 0.0V\n",
      "10%: 1.81V\n",
      "20%: 2.99V\n",
      "30%: 4.21V\n",
      "40%: 5.22V\n",
      "50%: 5.99V\n",
      "60%: 6.76V\n",
      "70%: 7.55V\n",
      "80%: 8.35V\n",
      "90%: 9.17V\n",
      "100%: 10.0V\n"
     ]
    }
   ],
   "source": [
    "light_intensities = np.array([0, 10, 20, 30, 40, 50, 60, 70, 80, 90, 100])\n",
    "\n",
    "print(\"Voltage for light intensities:\")\n",
    "for light_intensity in light_intensities:\n",
    "    print(f\"{light_intensity}%: {np.round(voltage(light_intensity), decimals=2)}V\")"
   ]
  },
  {
   "cell_type": "code",
   "execution_count": null,
   "metadata": {},
   "outputs": [],
   "source": []
  }
 ],
 "metadata": {
  "kernelspec": {
   "display_name": "plantEnv",
   "language": "python",
   "name": "python3"
  },
  "language_info": {
   "codemirror_mode": {
    "name": "ipython",
    "version": 3
   },
   "file_extension": ".py",
   "mimetype": "text/x-python",
   "name": "python",
   "nbconvert_exporter": "python",
   "pygments_lexer": "ipython3",
   "version": "3.10.15"
  }
 },
 "nbformat": 4,
 "nbformat_minor": 2
}
