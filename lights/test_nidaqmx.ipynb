{
 "cells": [
  {
   "cell_type": "code",
   "execution_count": null,
   "metadata": {},
   "outputs": [],
   "source": [
    "import nidaqmx"
   ]
  },
  {
   "cell_type": "code",
   "execution_count": null,
   "metadata": {},
   "outputs": [],
   "source": [
    "class AnalogOutputController:\n",
    "    def __init__(self, device_name='Dev1', channel='ao1'):\n",
    "        self.device_name = device_name\n",
    "        self.channel = channel\n",
    "        self.task = nidaqmx.Task()\n",
    "        self.task.ao_channels.add_ao_voltage_chan(f'{self.device_name}/{self.channel}')\n",
    "\n",
    "    def set_voltage(self, voltage):\n",
    "        self.task.write(voltage)\n",
    "\n",
    "    def close(self):\n",
    "        self.task.close()\n",
    "\n",
    "# Example usage:\n",
    "# controller = AnalogOutputController()\n",
    "# controller.set_voltage(5.0)\n",
    "# controller.close()"
   ]
  },
  {
   "cell_type": "code",
   "execution_count": null,
   "metadata": {},
   "outputs": [],
   "source": [
    "controller = AnalogOutputController()"
   ]
  },
  {
   "cell_type": "code",
   "execution_count": null,
   "metadata": {},
   "outputs": [],
   "source": [
    "while True:\n",
    "    voltage = float(input('Enter voltage: '))\n",
    "    if voltage < 0:\n",
    "        break\n",
    "    controller.set_voltage(voltage)\n",
    "# controller.set_voltage(0.0)"
   ]
  }
 ],
 "metadata": {
  "kernelspec": {
   "display_name": "Python 3",
   "language": "python",
   "name": "python3"
  },
  "language_info": {
   "codemirror_mode": {
    "name": "ipython",
    "version": 3
   },
   "file_extension": ".py",
   "mimetype": "text/x-python",
   "name": "python",
   "nbconvert_exporter": "python",
   "pygments_lexer": "ipython3",
   "version": "3.9.20"
  }
 },
 "nbformat": 4,
 "nbformat_minor": 2
}
